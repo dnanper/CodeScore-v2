{
 "cells": [
  {
   "cell_type": "code",
   "execution_count": null,
   "id": "7e76004d",
   "metadata": {
    "vscode": {
     "languageId": "plaintext"
    }
   },
   "outputs": [],
   "source": [
    "import json\n",
    "\n",
    "fail = \"CodeScore/results/ds1000_fail.jsonl\"\n",
    "pass = \"CodeScore/results/ds1000_pass.jsonl\"\n",
    "\n",
    "failed, passed = [], []\n",
    "with open(fail, \"r\") as f:\n"
   ]
  },
  {
   "cell_type": "code",
   "execution_count": null,
   "id": "90a755d2",
   "metadata": {
    "vscode": {
     "languageId": "plaintext"
    }
   },
   "outputs": [],
   "source": []
  }
 ],
 "metadata": {
  "language_info": {
   "name": "python"
  }
 },
 "nbformat": 4,
 "nbformat_minor": 5
}
